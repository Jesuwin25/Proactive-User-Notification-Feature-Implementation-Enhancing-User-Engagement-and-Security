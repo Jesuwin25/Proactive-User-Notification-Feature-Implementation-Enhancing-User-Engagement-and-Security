{
 "cells": [
  {
   "cell_type": "code",
   "execution_count": 1,
   "id": "975742ff",
   "metadata": {},
   "outputs": [],
   "source": [
    "from selenium import webdriver\n",
    "from selenium.webdriver.chrome.service import Service\n",
    "from selenium.webdriver.common.by import By\n",
    "from selenium.webdriver.common.keys import Keys\n",
    "from selenium.webdriver.chrome.options import Options\n",
    "from selenium.webdriver.support.ui import WebDriverWait\n",
    "from selenium.webdriver.support import expected_conditions as EC\n",
    "from bs4 import BeautifulSoup\n",
    "from openpyxl import Workbook\n",
    "import smtplib"
   ]
  },
  {
   "cell_type": "code",
   "execution_count": 2,
   "id": "08b0852c",
   "metadata": {},
   "outputs": [],
   "source": [
    "chrome_options = Options()\n",
    "chrome_options.add_argument(\"--headless\")\n",
    "driver_path = \"D:\\ABINBEV\\chromedriver_win32\\chromedriver.exe\"\n",
    "service = Service(driver_path)\n",
    "driver = webdriver.Chrome(service=service, options=chrome_options)"
   ]
  },
  {
   "cell_type": "code",
   "execution_count": 3,
   "id": "9f7b2795",
   "metadata": {},
   "outputs": [],
   "source": [
    "workbook = Workbook()\n",
    "sheet = workbook.active"
   ]
  },
  {
   "cell_type": "code",
   "execution_count": 4,
   "id": "3fdbdb70",
   "metadata": {},
   "outputs": [],
   "source": [
    "smtp_server = 'smtp.gmail.com'\n",
    "smtp_port = 587\n",
    "smtp_username = 'abc@gmail.com'\n",
    "smtp_password = 'xyz'"
   ]
  },
  {
   "cell_type": "code",
   "execution_count": 5,
   "id": "3724e58f",
   "metadata": {},
   "outputs": [],
   "source": [
    "from selenium import webdriver\n",
    "from selenium.webdriver.common.by import By\n",
    "from selenium.webdriver.support.ui import WebDriverWait\n",
    "from selenium.webdriver.support import expected_conditions as EC\n",
    "from cryptography.fernet import Fernet\n",
    "import base64"
   ]
  },
  {
   "cell_type": "code",
   "execution_count": 6,
   "id": "3f1b9441",
   "metadata": {},
   "outputs": [],
   "source": [
    "def generate_key():\n",
    "    return Fernet.generate_key()"
   ]
  },
  {
   "cell_type": "code",
   "execution_count": 7,
   "id": "d4888faa",
   "metadata": {},
   "outputs": [],
   "source": [
    "def encrypt_password(password, key):\n",
    "    cipher_suite = Fernet(key)\n",
    "    encrypted_password = cipher_suite.encrypt(password.encode())\n",
    "    return encrypted_password"
   ]
  },
  {
   "cell_type": "code",
   "execution_count": 8,
   "id": "bf5b0cec",
   "metadata": {},
   "outputs": [],
   "source": [
    "def decrypt_password(encrypted_password, key):\n",
    "    cipher_suite = Fernet(key)\n",
    "    decrypted_password = cipher_suite.decrypt(encrypted_password).decode()\n",
    "    return decrypted_password"
   ]
  },
  {
   "cell_type": "code",
   "execution_count": 9,
   "id": "9f01527e",
   "metadata": {},
   "outputs": [],
   "source": [
    "encryption_key = generate_key()"
   ]
  },
  {
   "cell_type": "code",
   "execution_count": 10,
   "id": "16bb4218",
   "metadata": {},
   "outputs": [],
   "source": [
    "encoded_key = base64.urlsafe_b64encode(encryption_key)"
   ]
  },
  {
   "cell_type": "code",
   "execution_count": 11,
   "id": "9e4c1c68",
   "metadata": {},
   "outputs": [],
   "source": [
    "linkedin_username = 'abc@gmail.com'\n",
    "linkedin_password = 'xyz'"
   ]
  },
  {
   "cell_type": "code",
   "execution_count": 12,
   "id": "f150b4bd",
   "metadata": {},
   "outputs": [],
   "source": [
    "encrypted_password = encrypt_password(linkedin_password, encryption_key)"
   ]
  },
  {
   "cell_type": "code",
   "execution_count": 13,
   "id": "03b63e0d",
   "metadata": {},
   "outputs": [],
   "source": [
    "decoded_key = base64.urlsafe_b64decode(encoded_key)"
   ]
  },
  {
   "cell_type": "code",
   "execution_count": 14,
   "id": "5e338b15",
   "metadata": {},
   "outputs": [],
   "source": [
    "decrypted_password = decrypt_password(encrypted_password, decoded_key)"
   ]
  },
  {
   "cell_type": "code",
   "execution_count": 15,
   "id": "da6d12a7",
   "metadata": {},
   "outputs": [],
   "source": [
    "driver.get('https://www.linkedin.com/login')"
   ]
  },
  {
   "cell_type": "code",
   "execution_count": 16,
   "id": "e2bfe562",
   "metadata": {},
   "outputs": [],
   "source": [
    "wait = WebDriverWait(driver, 10)\n",
    "username_element = wait.until(EC.visibility_of_element_located((By.ID, 'username')))\n",
    "password_element = wait.until(EC.visibility_of_element_located((By.ID, 'password')))"
   ]
  },
  {
   "cell_type": "code",
   "execution_count": 17,
   "id": "c1b753a2",
   "metadata": {},
   "outputs": [],
   "source": [
    "username_element.send_keys(linkedin_username)\n",
    "password_element.send_keys(decrypted_password)"
   ]
  },
  {
   "cell_type": "code",
   "execution_count": 18,
   "id": "9b3c7cb8",
   "metadata": {},
   "outputs": [],
   "source": [
    "password_element.submit()"
   ]
  },
  {
   "cell_type": "code",
   "execution_count": 53,
   "id": "442aff4c",
   "metadata": {},
   "outputs": [],
   "source": [
    "def save_data_to_excel(unread_messages, unread_notifications):\n",
    "    wb = openpyxl.load_workbook(r'D:\\ABINBEV\\2nd\\Dataset\\linkedin_data.xlsx')\n",
    "\n",
    "    try:\n",
    "        ws = wb['Data']\n",
    "    except KeyError:\n",
    "        ws = wb.create_sheet('Data')\n",
    "\n",
    "    last_row = ws.max_row\n",
    "\n",
    "    ws.cell(row=last_row + 1, column=1, value=unread_messages)\n",
    "    ws.cell(row=last_row + 1, column=2, value=unread_notifications)\n",
    "\n",
    "    wb.save(r'D:\\ABINBEV\\2nd\\Dataset\\linkedin_data.xlsx')\n",
    "    print(\"Data saved successfully.\")"
   ]
  },
  {
   "cell_type": "code",
   "execution_count": 54,
   "id": "b7a14bc2",
   "metadata": {},
   "outputs": [],
   "source": [
    "unread_messages = 1  \n",
    "unread_notifications = 0  "
   ]
  },
  {
   "cell_type": "code",
   "execution_count": 55,
   "id": "40a6b415",
   "metadata": {},
   "outputs": [],
   "source": [
    "import openpyxl"
   ]
  },
  {
   "cell_type": "code",
   "execution_count": 56,
   "id": "50867344",
   "metadata": {},
   "outputs": [
    {
     "name": "stdout",
     "output_type": "stream",
     "text": [
      "Data saved successfully.\n"
     ]
    }
   ],
   "source": [
    "save_data_to_excel(unread_messages, unread_notifications)"
   ]
  },
  {
   "cell_type": "code",
   "execution_count": 57,
   "id": "5f9ecbce",
   "metadata": {},
   "outputs": [],
   "source": [
    "import smtplib\n",
    "from email.mime.text import MIMEText\n",
    "from email.mime.multipart import MIMEMultipart"
   ]
  },
  {
   "cell_type": "code",
   "execution_count": 63,
   "id": "7541b7bf",
   "metadata": {},
   "outputs": [
    {
     "name": "stdout",
     "output_type": "stream",
     "text": [
      "Email notification sent successfully.\n"
     ]
    }
   ],
   "source": [
    "def send_email_notification(sender_email, sender_password, receiver_email):\n",
    "    smtp_server = \"smtp.gmail.com\"\n",
    "    smtp_port = 587\n",
    "\n",
    "    message = MIMEMultipart()\n",
    "    message[\"From\"] = \"abc@gmail.com\"\n",
    "    message[\"To\"] = \"jp8178@srmist.edu.in\"\n",
    "    message[\"Subject\"] = \"LinkedIn Data Update\"\n",
    "\n",
    "    wb = openpyxl.load_workbook(r'D:\\ABINBEV\\2nd\\Dataset\\linkedin_data.xlsx')\n",
    "    ws = wb['Data']\n",
    "\n",
    "    last_row = ws.max_row\n",
    "    unread_messages = ws.cell(row=last_row, column=1).value\n",
    "    unread_notifications = ws.cell(row=last_row, column=2).value\n",
    "\n",
    "    email_body = f\"LinkedIn Data Update:\\n\\nUnread Messages: {unread_messages}\\nUnread Notifications: {unread_notifications}\"\n",
    "    message.attach(MIMEText(email_body, \"plain\"))\n",
    "\n",
    "    with smtplib.SMTP(smtp_server, smtp_port) as server:\n",
    "        server.starttls()\n",
    "        server.login(\"abc@gmail.com\",\"bkvallrcpcwzylfq\")\n",
    "        server.sendmail(\"abc@gmail.com\", \"jp8178@srmist.edu.in\", message.as_string())\n",
    "\n",
    "    print(\"Email notification sent successfully.\")\n",
    "    \n",
    "send_email_notification(\"abc@gmail.com\", \"yourpassword\", \"jp8178@srmist.edu.in\")"
   ]
  },
  {
   "cell_type": "code",
   "execution_count": 64,
   "id": "244326a8",
   "metadata": {},
   "outputs": [
    {
     "name": "stdout",
     "output_type": "stream",
     "text": [
      "Excel file updated successfully.\n"
     ]
    }
   ],
   "source": [
    "import openpyxl\n",
    "\n",
    "def update_excel_file(unread_messages, unread_notifications):\n",
    "    wb = openpyxl.load_workbook(r'D:\\ABINBEV\\2nd\\Dataset\\linkedin_data.xlsx')\n",
    "    ws = wb['Data']\n",
    "\n",
    "    last_row = ws.max_row\n",
    "\n",
    "    ws.cell(row=last_row, column=1).value = unread_messages\n",
    "    ws.cell(row=last_row, column=2).value = unread_notifications\n",
    "\n",
    "    wb.save(r'D:\\ABINBEV\\2nd\\Dataset\\linkedin_data.xlsx')\n",
    "\n",
    "    print(\"Excel file updated successfully.\")\n",
    "\n",
    "update_excel_file(unread_messages, unread_notifications)"
   ]
  },
  {
   "cell_type": "code",
   "execution_count": 65,
   "id": "b8183016",
   "metadata": {},
   "outputs": [
    {
     "name": "stdout",
     "output_type": "stream",
     "text": [
      "Excel file closed.\n"
     ]
    }
   ],
   "source": [
    "def close_excel_file():\n",
    "    wb = openpyxl.load_workbook(r'D:\\ABINBEV\\2nd\\Dataset\\linkedin_data.xlsx')\n",
    "\n",
    "    wb.close()\n",
    "\n",
    "    print(\"Excel file closed.\")\n",
    "\n",
    "close_excel_file()"
   ]
  },
  {
   "cell_type": "code",
   "execution_count": 66,
   "id": "dfb2c12e",
   "metadata": {},
   "outputs": [
    {
     "name": "stdout",
     "output_type": "stream",
     "text": [
      "CSV file does not exist.\n"
     ]
    }
   ],
   "source": [
    "import os\n",
    "\n",
    "def delete_csv_file():\n",
    "    csv_file_path = r'D:\\ABINBEV\\2nd\\Dataset\\linkedin_data.csv'\n",
    "\n",
    "    if os.path.exists(csv_file_path):\n",
    "        os.remove(csv_file_path)\n",
    "        print(\"CSV file deleted.\")\n",
    "    else:\n",
    "        print(\"CSV file does not exist.\")\n",
    "\n",
    "delete_csv_file()"
   ]
  },
  {
   "cell_type": "code",
   "execution_count": 67,
   "id": "9b92f72b",
   "metadata": {},
   "outputs": [
    {
     "name": "stdout",
     "output_type": "stream",
     "text": [
      "Temporary directory does not exist.\n"
     ]
    }
   ],
   "source": [
    "import shutil\n",
    "\n",
    "def perform_cleanup():\n",
    "    temp_dir_path = r'D:\\ABINBEV\\2nd\\Dataset\\temp'\n",
    "\n",
    "    if os.path.exists(temp_dir_path):\n",
    "        shutil.rmtree(temp_dir_path)\n",
    "        print(\"Temporary files cleaned up.\")\n",
    "    else:\n",
    "        print(\"Temporary directory does not exist.\")\n",
    "\n",
    "perform_cleanup()"
   ]
  },
  {
   "cell_type": "code",
   "execution_count": 71,
   "id": "fb5a14df",
   "metadata": {},
   "outputs": [
    {
     "name": "stdout",
     "output_type": "stream",
     "text": [
      "Data processing and notification workflow completed successfully!\n"
     ]
    }
   ],
   "source": [
    "def display_completion_message(wb):\n",
    "    print(\"Data processing and notification workflow completed successfully!\")\n",
    "    wb.close()\n",
    "\n",
    "wb = openpyxl.load_workbook(r'D:\\ABINBEV\\2nd\\Dataset\\linkedin_data.xlsx')\n",
    "\n",
    "display_completion_message(wb)"
   ]
  },
  {
   "cell_type": "code",
   "execution_count": 77,
   "id": "6b11feaa",
   "metadata": {},
   "outputs": [],
   "source": [
    "import requests\n",
    "from bs4 import BeautifulSoup\n",
    "import openpyxl\n",
    "from datetime import datetime"
   ]
  },
  {
   "cell_type": "code",
   "execution_count": 97,
   "id": "60afbd53",
   "metadata": {},
   "outputs": [],
   "source": [
    "profile_url = 'https://www.linkedin.com/in/your_profile_url'\n",
    "response = requests.get(profile_url)\n",
    "driver.implicitly_wait(10)\n",
    "html = driver.page_source"
   ]
  },
  {
   "cell_type": "code",
   "execution_count": 98,
   "id": "2c409104",
   "metadata": {},
   "outputs": [],
   "source": [
    "soup = BeautifulSoup(html, 'html.parser')\n",
    "unread_messages_element = soup.find('span', class_='message-badge__count')\n",
    "unread_notifications_element = soup.find('span', class_='notification-badge__count')"
   ]
  }
 ],
 "metadata": {
  "kernelspec": {
   "display_name": "Python 3 (ipykernel)",
   "language": "python",
   "name": "python3"
  },
  "language_info": {
   "codemirror_mode": {
    "name": "ipython",
    "version": 3
   },
   "file_extension": ".py",
   "mimetype": "text/x-python",
   "name": "python",
   "nbconvert_exporter": "python",
   "pygments_lexer": "ipython3",
   "version": "3.10.9"
  }
 },
 "nbformat": 4,
 "nbformat_minor": 5
}
